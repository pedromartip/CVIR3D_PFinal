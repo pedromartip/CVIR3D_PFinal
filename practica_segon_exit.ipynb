{
 "cells": [
  {
   "cell_type": "code",
   "execution_count": null,
   "metadata": {},
   "outputs": [],
   "source": [
    "import cv2\n",
    "import numpy as np\n",
    "import matplotlib.pyplot as plt\n"
   ]
  },
  {
   "cell_type": "code",
   "execution_count": 2,
   "metadata": {},
   "outputs": [],
   "source": [
    "\n",
    "def resize_image(image, size):\n",
    "    return cv2.resize(image, size, interpolation=cv2.INTER_AREA)\n",
    "\n",
    "def detect_features(images_grey):\n",
    "    sift = cv2.SIFT_create()\n",
    "    keypoints_descriptors = []\n",
    "    for image in images_grey:\n",
    "        keypoints, descriptor = sift.detectAndCompute(image, None)\n",
    "        keypoints_descriptors.append((keypoints, descriptor))\n",
    "    return keypoints_descriptors\n",
    "\n",
    "def match_descriptors(descriptor1, descriptor2):\n",
    "    FLANN_INDEX_KDTREE = 1\n",
    "    index_params = dict(algorithm=FLANN_INDEX_KDTREE, trees=5)\n",
    "    search_params = dict(checks=50)\n",
    "    flann = cv2.FlannBasedMatcher(index_params, search_params)\n",
    "    matches = flann.knnMatch(descriptor1, descriptor2, k=2)\n",
    "    good_matches = []\n",
    "    for m, n in matches:\n",
    "        if m.distance < 0.7 * n.distance:\n",
    "            good_matches.append(m)\n",
    "    return good_matches\n",
    "\n",
    "def stitch_images(image1, image2, kp1, kp2, matches):\n",
    "    points1 = np.float32([kp1[m.queryIdx].pt for m in matches])\n",
    "    points2 = np.float32([kp2[m.trainIdx].pt for m in matches])\n",
    "    H, _ = cv2.findHomography(points2, points1, cv2.RANSAC, 5.0)\n",
    "    width = image1.shape[1] + image2.shape[1]\n",
    "    height = max(image1.shape[0], image2.shape[0])\n",
    "    result = cv2.warpPerspective(image2, H, (width, height))\n",
    "    result[0:image1.shape[0], 0:image1.shape[1]] = image1\n",
    "    return result"
   ]
  },
  {
   "cell_type": "code",
   "execution_count": 7,
   "metadata": {},
   "outputs": [
    {
     "ename": "error",
     "evalue": "OpenCV(4.8.1) D:\\a\\opencv-python\\opencv-python\\opencv\\modules\\imgproc\\src\\resize.cpp:4065: error: (-215:Assertion failed) inv_scale_x > 0 in function 'cv::resize'\n",
     "output_type": "error",
     "traceback": [
      "\u001b[1;31m---------------------------------------------------------------------------\u001b[0m",
      "\u001b[1;31merror\u001b[0m                                     Traceback (most recent call last)",
      "Cell \u001b[1;32mIn[7], line 51\u001b[0m\n\u001b[0;32m     49\u001b[0m output_filename \u001b[38;5;241m=\u001b[39m \u001b[38;5;124m'\u001b[39m\u001b[38;5;124mpanoramic_image.png\u001b[39m\u001b[38;5;124m'\u001b[39m  \u001b[38;5;66;03m# Asegúrate de que esta ruta sea correcta y accesible\u001b[39;00m\n\u001b[0;32m     50\u001b[0m cv2\u001b[38;5;241m.\u001b[39mimwrite(output_filename, result_123)\n\u001b[1;32m---> 51\u001b[0m resized_img \u001b[38;5;241m=\u001b[39m cv2\u001b[38;5;241m.\u001b[39mresize(result_123, (\u001b[38;5;241m500\u001b[39m, \u001b[38;5;28;01mNone\u001b[39;00m))\n\u001b[0;32m     52\u001b[0m cv2\u001b[38;5;241m.\u001b[39mimshow(\u001b[38;5;124m\"\u001b[39m\u001b[38;5;124mPanoramic Image\u001b[39m\u001b[38;5;124m\"\u001b[39m, resized_img)\n\u001b[0;32m     53\u001b[0m cv2\u001b[38;5;241m.\u001b[39mwaitKey(\u001b[38;5;241m0\u001b[39m)\n",
      "\u001b[1;31merror\u001b[0m: OpenCV(4.8.1) D:\\a\\opencv-python\\opencv-python\\opencv\\modules\\imgproc\\src\\resize.cpp:4065: error: (-215:Assertion failed) inv_scale_x > 0 in function 'cv::resize'\n"
     ]
    }
   ],
   "source": [
    "# Nombres de archivo de las imágenes de entrada\n",
    "filenames = ['IMG_IZQ.JPG', 'IMG_MID.JPG', 'IMG_DER.JPG']\n",
    "H_filenames = ['H_IZQ.jpeg', 'H_MID.jpeg', 'H_DER.jpeg']\n",
    "V_filenames = ['V_IZQ.jpeg', 'V_MID.jpeg', 'V_DER.jpeg']\n",
    "profe_filenames = ['img1.png','img2.png','img3.png']\n",
    "\n",
    "images = [cv2.imread(f) for f in V_filenames]\n",
    "images_grey = [cv2.cvtColor(img, cv2.COLOR_BGR2GRAY) for img in images]\n",
    "\n",
    "# Detectamos características en las imágenes en escala de grises\n",
    "kps_des = detect_features(images_grey)\n",
    "\n",
    "# Emparejamos los descriptores entre la primera y la segunda imagen\n",
    "matches12 = match_descriptors(kps_des[0][1], kps_des[1][1])\n",
    "\n",
    "# Unimos las primeras dos imágenes\n",
    "result_12 = stitch_images(images_grey[0], images_grey[1], kps_des[0][0], kps_des[1][0], matches12)\n",
    "\n",
    "# Detectamos características en la imagen resultante de la unión de la primera y segunda imagen\n",
    "kp_result_12, desc_result_12 = detect_features([result_12])[0]\n",
    "\n",
    "# Detectamos características en la tercera imagen\n",
    "kp_image_3, desc_image_3 = detect_features([images_grey[2]])[0]\n",
    "\n",
    "# Emparejamos los descriptores entre la imagen compuesta y la tercera imagen\n",
    "matches_12_3 = match_descriptors(desc_result_12, desc_image_3)\n",
    "\n",
    "# Unimos el resultado anterior con la tercera imagen\n",
    "result_123 = stitch_images(result_12, images_grey[2], kp_result_12, kp_image_3, matches_12_3)\n",
    "\n",
    "# Guardamos y mostramos el resultado\n",
    "output_filename = 'panoramic_image_updated.png'\n",
    "cv2.imwrite(output_filename, result_123)\n",
    "\n",
    "# Vamos a cargar y mostrar la imagen para verificar el resultado\n",
    "result_123_color = cv2.cvtColor(result_123, cv2.COLOR_GRAY2BGR)\n",
    "plt.imshow(cv2.cvtColor(result_123_color, cv2.COLOR_BGR2RGB)) # Convertir BGR a RGB para mostrar correctamente\n",
    "plt.axis('off') # Ocultar los ejes\n",
    "plt.show()\n",
    "\n",
    "output_filename"
   ]
  }
 ],
 "metadata": {
  "kernelspec": {
   "display_name": "AIV_P1",
   "language": "python",
   "name": "python3"
  },
  "language_info": {
   "codemirror_mode": {
    "name": "ipython",
    "version": 3
   },
   "file_extension": ".py",
   "mimetype": "text/x-python",
   "name": "python",
   "nbconvert_exporter": "python",
   "pygments_lexer": "ipython3",
   "version": "3.11.5"
  }
 },
 "nbformat": 4,
 "nbformat_minor": 2
}
