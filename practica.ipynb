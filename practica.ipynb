{
 "cells": [
  {
   "cell_type": "code",
   "execution_count": 7,
   "metadata": {},
   "outputs": [],
   "source": [
    "import cv2\n",
    "import numpy as np"
   ]
  },
  {
   "cell_type": "code",
   "execution_count": null,
   "metadata": {},
   "outputs": [],
   "source": [
    "# Función para leer y convertir las imágenes a escala de grises\n",
    "def read_images(filenames):\n",
    "    \"\"\"Lee las imágenes de los archivos y las convierte a escala de grises.\"\"\"\n",
    "    images = [cv2.imread(file) for file in filenames]\n",
    "    images_grey = [cv2.cvtColor(img, cv2.COLOR_BGR2GRAY) for img in images]\n",
    "    return images_grey\n",
    "\n",
    "# Función para detectar características y descriptores usando SIFT\n",
    "def detect_features(images_grey):\n",
    "    \"\"\"Detecta puntos clave y calcula descriptores para una lista de imágenes en escala de grises.\"\"\"\n",
    "    sift = cv2.SIFT_create()\n",
    "    keypoints_descriptors = [sift.detectAndCompute(image, None) for image in images_grey]\n",
    "    return keypoints_descriptors\n",
    "\n",
    "# Función para emparejar descriptores entre dos imágenes\n",
    "def match_descriptors(descriptor1, descriptor2):\n",
    "    \"\"\"Empareja descriptores entre dos conjuntos de descriptores.\"\"\"\n",
    "    bf = cv2.BFMatcher(cv2.NORM_L2, crossCheck=True)\n",
    "    matches = bf.match(descriptor1, descriptor2)\n",
    "    # Ordenamos los emparejamientos por su distancia (calidad del emparejamiento)\n",
    "    matches = sorted(matches, key=lambda x: x.distance)\n",
    "    return matches\n",
    "\n",
    "# Función para calcular la homografía y unir las imágenes\n",
    "def stitch_images(image1, image2, kp1, kp2, matches):\n",
    "    \"\"\"Encuentra la homografía y transforma la imagen 2 al plano de la imagen 1.\"\"\"\n",
    "    # Extraemos la ubicación de los puntos clave emparejados\n",
    "    points1 = np.zeros((len(matches), 2), dtype=np.float32)\n",
    "    points2 = np.zeros_like(points1)\n",
    "    \n",
    "    for i, match in enumerate(matches):\n",
    "        points1[i, :] = kp1[match.queryIdx].pt\n",
    "        points2[i, :] = kp2[match.trainIdx].pt\n",
    "    \n",
    "    # Calculamos la homografía\n",
    "    H, _ = cv2.findHomography(points2, points1, cv2.RANSAC, 5.0)\n",
    "    \n",
    "    # Transformamos las imágenes\n",
    "    width = image1.shape[1] + image2.shape[1]\n",
    "    height = max(image1.shape[0], image2.shape[0])\n",
    "    result = cv2.warpPerspective(image2, H, (width, height))\n",
    "    result[0:image1.shape[0], 0:image1.shape[1]] = image1\n",
    "    return result\n"
   ]
  },
  {
   "cell_type": "code",
   "execution_count": 3,
   "metadata": {},
   "outputs": [
    {
     "data": {
      "text/plain": [
       "'panoramic_image.png'"
      ]
     },
     "execution_count": 3,
     "metadata": {},
     "output_type": "execute_result"
    },
    {
     "ename": "",
     "evalue": "",
     "output_type": "error",
     "traceback": [
      "\u001b[1;31mThe Kernel crashed while executing code in the the current cell or a previous cell. Please review the code in the cell(s) to identify a possible cause of the failure. Click <a href='https://aka.ms/vscodeJupyterKernelCrash'>here</a> for more info. View Jupyter <a href='command:jupyter.viewOutput'>log</a> for further details."
     ]
    }
   ],
   "source": [
    "# Nombres de archivo de las imágenes de entrada\n",
    "filenames = ['img2.png',\n",
    "             'img1.png',\n",
    "             'img3.png']\n",
    "\n",
    "# Leemos y convertimos las imágenes a escala de grises\n",
    "images_grey = read_images(filenames)\n",
    "\n",
    "# Detectamos características\n",
    "kps_des = detect_features(images_grey)\n",
    "\n",
    "# Emparejamos los descriptores entre las imágenes\n",
    "matches12 = match_descriptors(kps_des[0][1], kps_des[1][1])\n",
    "matches23 = match_descriptors(kps_des[1][1], kps_des[2][1])\n",
    "\n",
    "# Leemos las imágenes originales de nuevo para la unión\n",
    "images = read_images(filenames)  # Leemos las imágenes a color para la unión\n",
    "\n",
    "# Unimos las imágenes\n",
    "result_12 = stitch_images(images[0], images[1], kps_des[0][0], kps_des[1][0], matches12)\n",
    "result_123 = stitch_images(result_12, images[2], kps_des[1][0], kps_des[2][0], matches23)\n",
    "\n",
    "# Guardamos y devolvemos el resultado\n",
    "output_filename = '/mnt/data/panoramic_image.png'\n",
    "cv2.imwrite(output_filename, result_123)\n",
    "\n",
    "output_filename"
   ]
  }
 ],
 "metadata": {
  "kernelspec": {
   "display_name": "AIV_P1",
   "language": "python",
   "name": "python3"
  },
  "language_info": {
   "codemirror_mode": {
    "name": "ipython",
    "version": 3
   },
   "file_extension": ".py",
   "mimetype": "text/x-python",
   "name": "python",
   "nbconvert_exporter": "python",
   "pygments_lexer": "ipython3",
   "version": "3.9.18"
  }
 },
 "nbformat": 4,
 "nbformat_minor": 2
}
